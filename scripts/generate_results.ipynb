{
 "cells": [
  {
   "cell_type": "code",
   "execution_count": null,
   "metadata": {},
   "outputs": [],
   "source": [
    "import pandas as pd\n",
    "import os\n",
    "import numpy as np\n",
    "import seaborn as sns\n",
    "import datetime\n",
    "import chardet\n",
    "import time\n",
    "from pandas.api.types import is_number\n",
    "from matplotlib import pyplot as plt\n",
    "!pip install fpdf\n",
    "from fpdf import FPDF"
   ]
  },
  {
   "cell_type": "code",
   "execution_count": null,
   "metadata": {},
   "outputs": [],
   "source": [
    "results = pd.read_csv('soot-results.csv', sep=';', encoding='latin-1', on_bad_lines='skip', low_memory=False)"
   ]
  },
  {
   "cell_type": "code",
   "execution_count": null,
   "metadata": {},
   "outputs": [],
   "source": [
    "loi = pd.read_csv('LOI.csv', sep=';', encoding='latin-1', on_bad_lines='skip', low_memory=False)"
   ]
  },
  {
   "cell_type": "code",
   "execution_count": null,
   "metadata": {},
   "outputs": [],
   "source": [
    "columns = [\"Confluence Inter\", \"left right OA Inter\", \"right left OA Inter\", \"left right PDG-SDG\", \n",
    "           \"right left PDG-SDG\", \"left right DFP-Inter\", \"right left DFP-Inter\"]"
   ]
  },
  {
   "cell_type": "code",
   "execution_count": null,
   "metadata": {},
   "outputs": [],
   "source": [
    "cont = 0\n",
    "result = {\"True Negative\":0, \"False Negative\":0, \"True Positive\":0, \"False Positive\":0}\n",
    "for (LOIGroundTruth, confluence, lrOA, rlOA, lrPDG, rlPDG, lrDP, rlDF) in zip(loi[\"Locally Observable Interference\"], results[\"Confluence Inter\"], results[\"left right OA Inter\"], results[\"right left OA Inter\"], results[\"left right PDG-SDG\"], results[\"right left PDG-SDG\"], results[\"left right DFP-Inter\"], results[\"right left DFP-Inter\"]):\n",
    "    rAux = \"\"\n",
    "    AnalysesORResult = False\n",
    "    if (\"true\" in confluence or \"true\" in lrOA or \"true\" in  rlOA or \"true\" in lrPDG or \"true\" in  rlPDG or \"true\" in lrDP or \"true\" in rlDF) :\n",
    "        AnalysesORResult = True\n",
    "    if (LOIGroundTruth == \"No\"):\n",
    "        if (AnalysesORResult):\n",
    "            rAux = \"False Positive\"\n",
    "        else:\n",
    "            rAux = \"True Negative\"\n",
    "    if (LOIGroundTruth == \"Yes\"):\n",
    "        if (AnalysesORResult):\n",
    "            rAux = \"True Positive\"\n",
    "        else:\n",
    "            rAux = \"False Negative\"\n",
    "    result[rAux] = result.get(rAux) + 1\n",
    "        \n",
    "print(result)"
   ]
  },
  {
   "cell_type": "code",
   "execution_count": null,
   "metadata": {},
   "outputs": [],
   "source": [
    "text = [k for (k, v) in result.items()]\n",
    "values = [v for (k, v) in result.items()]\n",
    "\n",
    "#print(text, values)"
   ]
  },
  {
   "cell_type": "code",
   "execution_count": null,
   "metadata": {},
   "outputs": [],
   "source": [
    "# x axis values\n",
    "x = text\n",
    "\n",
    "# corresponding y axis values\n",
    "y = values\n",
    "\n",
    "# plotting the points\n",
    "fig, ax = plt.subplots(figsize=(12,8))\n",
    "#plt.figure(figsize =(12, 6))\n",
    "for index in range(len(x)):\n",
    "  ax.text(x[index], y[index], y[index], size=12)\n",
    "\n",
    "plt.bar(x, y, width=0.8)\n",
    "\n",
    "# naming the x axis\n",
    "plt.xlabel('Resultados')\n",
    "# naming the y axis\n",
    "plt.ylabel(\"Quantidade\")\n",
    "\n",
    "# giving a title to my graph\n",
    "plt.title(\"Resultados de Falsos Positivos e Negativos\")\n",
    "\n",
    "# save image\n",
    "#plt.savefig(\"results_image.pdf\", format=\"pdf\", bbox_inches=\"tight\")\n",
    "plt.savefig(\"results_image.jpg\")\n",
    "\n",
    "# function to show the plot\n",
    "plt.show()"
   ]
  },
  {
   "cell_type": "code",
   "execution_count": null,
   "metadata": {},
   "outputs": [],
   "source": [
    "# Sensitivity: TPR = TP / (TP + FN)\n",
    "# Precision: PPV = TP / (TP + FP)\n",
    "# F1 Score: F1 = 2TP / (2TP + FP + FN)\n",
    "# Accuracy: ACC = (TP + TN) / (P + N)\n",
    "\n",
    "FP = result[\"False Positive\"]\n",
    "TP = result[\"True Positive\"]\n",
    "FN = result[\"False Negative\"]\n",
    "TN = result[\"True Negative\"]\n",
    "\n",
    "sensitivity = (TP / (TP + FN))\n",
    "precision = (TP / (TP + FP))\n",
    "f1_score = (2*TP / (2*TP + FP + FN))\n",
    "accuracy = ((TP + TN) / (FP + TP + TN + FN))\n",
    "\n",
    "print(\"Precision:\", round(precision, 4))\n",
    "print(\"Recall:\", round(sensitivity, 4))\n",
    "print(\"F1 Score:\", round(f1_score, 4))\n",
    "print(\"Accuracy:\", round(accuracy, 4))\n"
   ]
  },
  {
   "cell_type": "code",
   "execution_count": null,
   "metadata": {},
   "outputs": [],
   "source": [
    "import numpy as np\n",
    "\n",
    "def plot_confusion_matrix(cm,\n",
    "                          target_names,\n",
    "                          title='Confusion matrix',\n",
    "                          cmap=None,\n",
    "                          normalize=True):\n",
    "    import matplotlib.pyplot as plt\n",
    "    import numpy as np\n",
    "    import itertools\n",
    "\n",
    "    accuracy = np.trace(cm) / float(np.sum(cm))\n",
    "    misclass = 1 - accuracy\n",
    "\n",
    "    if cmap is None:\n",
    "        cmap = plt.get_cmap('Blues')\n",
    "\n",
    "    plt.figure(figsize=(8, 6))\n",
    "    plt.imshow(cm, interpolation='nearest', cmap=cmap)\n",
    "    plt.title(title)\n",
    "    plt.colorbar()\n",
    "\n",
    "    if target_names is not None:\n",
    "        tick_marks = np.arange(len(target_names))\n",
    "        plt.xticks(tick_marks, target_names, rotation=45)\n",
    "        plt.yticks(tick_marks, target_names)\n",
    "\n",
    "    if normalize:\n",
    "        cm = cm.astype('float') / cm.sum(axis=1)[:, np.newaxis]\n",
    "\n",
    "\n",
    "    thresh = cm.max() / 1.5 if normalize else cm.max() / 2\n",
    "    for i, j in itertools.product(range(cm.shape[0]), range(cm.shape[1])):\n",
    "        if normalize:\n",
    "            plt.text(j, i, \"{:0.4f}\".format(cm[i, j]),\n",
    "                     horizontalalignment=\"center\",\n",
    "                     color=\"white\" if cm[i, j] > thresh else \"black\")\n",
    "        else:\n",
    "            plt.text(j, i, \"{:,}\".format(cm[i, j]),\n",
    "                     horizontalalignment=\"center\",\n",
    "                     color=\"white\" if cm[i, j] > thresh else \"black\")\n",
    "\n",
    "\n",
    "    plt.tight_layout()\n",
    "    #plt.ylabel('True label')\n",
    "    plt.xlabel('Predicted label\\naccuracy={:0.4f}; misclass={:0.4f}'.format(accuracy, misclass))\n",
    "    plt.savefig(\"confusion_matrix.jpg\")\n",
    "    plt.show()"
   ]
  },
  {
   "cell_type": "code",
   "execution_count": null,
   "metadata": {},
   "outputs": [],
   "source": [
    "plot_confusion_matrix(cm           = np.array([[TP,  FP],\n",
    "                                              [FN, TN]]), \n",
    "                      normalize    = False,\n",
    "                      target_names = ['Positive', 'Negative'],\n",
    "                      title        = \"Confusion Matrix\")"
   ]
  },
  {
   "cell_type": "code",
   "execution_count": null,
   "metadata": {},
   "outputs": [],
   "source": [
    "from fpdf import FPDF\n",
    " \n",
    "# variable pdf\n",
    "pdf = FPDF()\n",
    " \n",
    "# Add a page\n",
    "pdf.add_page()\n",
    " \n",
    "# set style and size of font\n",
    "# that you want in the pdf\n",
    "pdf.set_font(\"Arial\", size = 15)\n",
    " \n",
    "# create a cell\n",
    "\n",
    "pdf.cell(200, 10, txt = \"Results for execution\",\n",
    "         ln = 1, align = 'C')\n",
    "\n",
    "pdf.cell(200, 10, txt = (\"Precision: \"+str(round(precision, 4))),\n",
    "         ln = 2, align = 'L')\n",
    "\n",
    "pdf.cell(200, 10, txt = (\"Recall: \"+str(round(sensitivity, 4))),\n",
    "         ln = 2, align = 'L')\n",
    "\n",
    "pdf.cell(200, 10, txt = (\"F1 Score: \"+str(round(f1_score, 4))),\n",
    "         ln = 2, align = 'L')\n",
    "\n",
    "pdf.cell(200, 10, txt = (\"Accuracy: \"+str(round(accuracy, 4))),\n",
    "         ln = 2, align = 'L')\n",
    "\n",
    "pdf.image(\"results_image.jpg\", x = None, y = None, w = 150, h = 100, type = 'jpg', link = 'results_image.jpg')\n",
    "\n",
    "pdf.image(\"confusion_matrix.jpg\", x = None, y = None, w = 150, h = 100, type = 'jpg', link = 'confusion_matrix.jpg')\n",
    "\n",
    "# save the pdf with name .pdf\n",
    "pdf.output(\"results.pdf\")"
   ]
  }
 ],
 "metadata": {
  "kernelspec": {
   "display_name": "Python 3",
   "language": "python",
   "name": "python3"
  },
  "language_info": {
   "codemirror_mode": {
    "name": "ipython",
    "version": 3
   },
   "file_extension": ".py",
   "mimetype": "text/x-python",
   "name": "python",
   "nbconvert_exporter": "python",
   "pygments_lexer": "ipython3",
   "version": "3.8.10"
  }
 },
 "nbformat": 4,
 "nbformat_minor": 4
}
